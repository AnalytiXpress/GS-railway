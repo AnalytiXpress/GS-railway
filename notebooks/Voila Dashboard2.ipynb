{
 "cells": [
  {
   "cell_type": "code",
   "execution_count": 1,
   "id": "84590b8f",
   "metadata": {
    "code_folding": []
   },
   "outputs": [],
   "source": [
    "import ipywidgets as w\n",
    "from IPython.display import display, clear_output, Image #, IFrame"
   ]
  },
  {
   "cell_type": "code",
   "execution_count": 2,
   "id": "434e47bc",
   "metadata": {},
   "outputs": [],
   "source": [
    "import pandas as pd\n",
    "import numpy as np\n",
    "import matplotlib as mpl"
   ]
  },
  {
   "cell_type": "code",
   "execution_count": 3,
   "id": "a5ceba8d",
   "metadata": {},
   "outputs": [],
   "source": [
    "from IPython.display import Image\n",
    "\n",
    "# Path to the image file\n",
    "image_path = 'https://dl.dropbox.com/scl/fi/lqg9p5pazvp0lc1tzc69u/Setosa.png?rlkey=ya2mevbkunxx4huv7vcijgg6g&dl=0'\n",
    "\n",
    "# Display the image\n",
    "title = Image(url=image_path, width = 520)"
   ]
  },
  {
   "cell_type": "code",
   "execution_count": 4,
   "id": "219a3ee6",
   "metadata": {
    "code_folding": [
     15
    ]
   },
   "outputs": [],
   "source": [
    "from IPython.display import clear_output\n",
    "\n",
    "# Creating an output Box\n",
    "out = w.Output(layout=w.Layout(height='895px',\n",
    "                              width='99.5%',\n",
    "                              border='12px inset teal',\n",
    "                              align_items='center'))\n",
    "\n",
    "# Creating an output widget for the title with specific layout settings\n",
    "title_out = w.Output(layout=w.Layout(height=\"130px\", width='33%',\n",
    "                                      align_items='center', justify_content='center'))\n",
    "\n",
    "# Creating an output widget for the main content with specific layout settings\n",
    "main_out = w.Box()\n",
    "\n",
    "# Displaying the title in the title_out widget\n",
    "with title_out:\n",
    "    display(title)\n",
    "\n",
    "species_list = ['Setosa', 'Virginica', 'Versicolor']\n",
    "\n",
    "species_colors = {'Setosa' : 'skyblue',\n",
    "                  'Virginica': 'salmon',\n",
    "                  'Versicolor' : 'turquoise'}\n",
    "\n",
    "# Creating separate output widgets for each of the species: Setosa, Virginica, and Versicolor\n",
    "for i in species_list:\n",
    "    \n",
    "    globals()[i + '_button'] = w.Button(description=i,\n",
    "                         style=w.ButtonStyle(font_weight='bold',\n",
    "                                             font_size='16px',\n",
    "                                             button_color = None))\n",
    "    \n",
    "    globals()[i + '_out'] = w.Output(layout=w.Layout(height=\"660px\", width='99.5%', border='1px solid grey',\n",
    "                                     align_items='center', justify_content='center'))\n",
    "    \n",
    "with out:\n",
    "    # Displaying a VBox containing HBox and other widgets\n",
    "    display(w.VBox([w.HBox([w.Output(layout=w.Layout(width='33%')), title_out,\n",
    "                            w.VBox([\n",
    "                                w.Output(layout=w.Layout(height='45px')),\n",
    "                                w.HBox([Setosa_button, Virginica_button, Versicolor_button])\n",
    "                            ])\n",
    "                           ]),\n",
    "                    main_out]))\n",
    "    \n",
    "Setosa_button.style.button_color = 'skyblue'\n",
    "    \n",
    "# out.children = [Setosa_out]"
   ]
  },
  {
   "cell_type": "code",
   "execution_count": 5,
   "id": "359b0a38",
   "metadata": {
    "code_folding": [],
    "hide_input": false
   },
   "outputs": [],
   "source": [
    "# for i in species_list:\n",
    "    \n",
    "#     string = \\\n",
    "#     'def ' + i + '_func(a):' + '\\n' + \\\n",
    "#     '\\t' + 'main_out.children = [' + i + '_out]' + '\\n' + \\\n",
    "#     '\\t' + i + '_button.style.button_color = \"' + species_colors[i] + '\"' + '\\n' + \\\n",
    "#     '\\t' + 'for j in [\"' + '\", \"'.join([k for k in species_list if k != i]) + '\"]:' + '\\n' + \\\n",
    "#     '\\t'*2 + 'globals()[j + \"_button\"]' + '.style.button_color = None' + '\\n' + \\\n",
    "#     i + '_button.on_click(' +  i + '_func' + ')\\n'\n",
    "#     exec(string)"
   ]
  },
  {
   "cell_type": "code",
   "execution_count": 6,
   "id": "31d1b24b",
   "metadata": {
    "scrolled": true
   },
   "outputs": [
    {
     "data": {
      "application/vnd.jupyter.widget-view+json": {
       "model_id": "45293a03da1e439f8f9f089984cf471a",
       "version_major": 2,
       "version_minor": 0
      },
      "text/plain": [
       "Output(layout=Layout(align_items='center', border_bottom='12px inset teal', border_left='12px inset teal', bor…"
      ]
     },
     "metadata": {},
     "output_type": "display_data"
    }
   ],
   "source": [
    "display(out)"
   ]
  },
  {
   "cell_type": "code",
   "execution_count": null,
   "id": "b7a33c1c",
   "metadata": {},
   "outputs": [],
   "source": []
  }
 ],
 "metadata": {
  "kernelspec": {
   "display_name": "Python 3",
   "language": "python",
   "name": "python3"
  },
  "language_info": {
   "codemirror_mode": {
    "name": "ipython",
    "version": 3
   },
   "file_extension": ".py",
   "mimetype": "text/x-python",
   "name": "python",
   "nbconvert_exporter": "python",
   "pygments_lexer": "ipython3",
   "version": "3.7.6"
  }
 },
 "nbformat": 4,
 "nbformat_minor": 5
}
