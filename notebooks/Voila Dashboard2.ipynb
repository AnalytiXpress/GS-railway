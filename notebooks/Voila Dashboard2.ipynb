{
 "cells": [
  {
   "cell_type": "code",
   "execution_count": null,
   "id": "afbdf1ff",
   "metadata": {
    "code_folding": []
   },
   "outputs": [],
   "source": [
    "import ipywidgets as w\n",
    "from IPython.display import display, clear_output, Image #, IFrame\n",
    "import matplotlib.pyplot as plt\n",
    "import seaborn as sns\n",
    "import base64\n",
    "from IPython.display import Javascript\n",
    "import warnings\n",
    "warnings.filterwarnings('ignore')"
   ]
  },
  {
   "cell_type": "code",
   "execution_count": null,
   "id": "1c0b7a9d",
   "metadata": {},
   "outputs": [],
   "source": [
    "import pandas as pd\n",
    "import numpy as np\n",
    "import matplotlib as mpl"
   ]
  },
  {
   "cell_type": "code",
   "execution_count": null,
   "id": "02d68331",
   "metadata": {},
   "outputs": [],
   "source": [
    "from IPython.display import Image\n",
    "\n",
    "# Path to the image file\n",
    "image_path = 'https://dl.dropbox.com/scl/fi/lqg9p5pazvp0lc1tzc69u/Setosa.png?rlkey=ya2mevbkunxx4huv7vcijgg6g&dl=0'\n",
    "\n",
    "# Display the image\n",
    "title = Image(url=image_path, width = 520)"
   ]
  },
  {
   "cell_type": "code",
   "execution_count": null,
   "id": "1b81b931",
   "metadata": {
    "code_folding": [
     15
    ]
   },
   "outputs": [],
   "source": [
    "import ipywidgets as w\n",
    "from IPython.display import clear_output\n",
    "\n",
    "# Creating an output Box\n",
    "out = w.Output(layout=w.Layout(height='895px',\n",
    "                              width='99.5%',\n",
    "                              border='12px inset teal',\n",
    "                              align_items='center'))\n",
    "\n",
    "# Creating an output widget for the title with specific layout settings\n",
    "title_out = w.Output(layout=w.Layout(height=\"130px\", width='33%',\n",
    "                                      align_items='center', justify_content='center'))\n",
    "\n",
    "# Creating an output widget for the main content with specific layout settings\n",
    "main_out = w.Box()\n",
    "\n",
    "# Displaying the title in the title_out widget\n",
    "with title_out:\n",
    "    display(title)\n",
    "\n",
    "species_list = ['Setosa', 'Virginica', 'Versicolor']\n",
    "\n",
    "species_colors = {'Setosa' : 'skyblue',\n",
    "                  'Virginica': 'salmon',\n",
    "                  'Versicolor' : 'turquoise'}\n",
    "\n",
    "# Creating separate output widgets for each of the species: Setosa, Virginica, and Versicolor\n",
    "for i in species_list:\n",
    "    \n",
    "    globals()[i + '_button'] = w.Button(description=i,\n",
    "                         style=w.ButtonStyle(font_weight='bold',\n",
    "                                             font_size='16px',\n",
    "                                             button_color = None))\n",
    "    \n",
    "    globals()[i + '_out'] = w.Output(layout=w.Layout(height=\"660px\", width='99.5%', border='1px solid grey',\n",
    "                                     align_items='center', justify_content='center'))\n",
    "    \n",
    "with out:\n",
    "    # Displaying a VBox containing HBox and other widgets\n",
    "    display(w.VBox([w.HBox([w.Output(layout=w.Layout(width='33%')), title_out,\n",
    "                            w.VBox([\n",
    "                                w.Output(layout=w.Layout(height='45px')),\n",
    "                                w.HBox([Setosa_button, Virginica_button, Versicolor_button])\n",
    "                            ])\n",
    "                           ]),\n",
    "                    main_out]))\n",
    "    \n",
    "Setosa_button.style.button_color = 'skyblue'\n",
    "    \n",
    "# out.children = [Setosa_out]"
   ]
  },
  {
   "cell_type": "code",
   "execution_count": null,
   "id": "b33a1e7c",
   "metadata": {
    "code_folding": [],
    "hide_input": false
   },
   "outputs": [],
   "source": [
    "# for i in species_list:\n",
    "    \n",
    "#     string = \\\n",
    "#     'def ' + i + '_func(a):' + '\\n' + \\\n",
    "#     '\\t' + 'main_out.children = [' + i + '_out]' + '\\n' + \\\n",
    "#     '\\t' + i + '_button.style.button_color = \"' + species_colors[i] + '\"' + '\\n' + \\\n",
    "#     '\\t' + 'for j in [\"' + '\", \"'.join([k for k in species_list if k != i]) + '\"]:' + '\\n' + \\\n",
    "#     '\\t'*2 + 'globals()[j + \"_button\"]' + '.style.button_color = None' + '\\n' + \\\n",
    "#     i + '_button.on_click(' +  i + '_func' + ')\\n'\n",
    "#     exec(string)"
   ]
  },
  {
   "cell_type": "code",
   "execution_count": null,
   "id": "6e868490",
   "metadata": {
    "scrolled": true
   },
   "outputs": [],
   "source": [
    "display(out)"
   ]
  },
  {
   "cell_type": "code",
   "execution_count": null,
   "id": "e3cc196a",
   "metadata": {},
   "outputs": [],
   "source": []
  }
 ],
 "metadata": {
  "kernelspec": {
   "display_name": "Python 3",
   "language": "python",
   "name": "python3"
  },
  "language_info": {
   "codemirror_mode": {
    "name": "ipython",
    "version": 3
   },
   "file_extension": ".py",
   "mimetype": "text/x-python",
   "name": "python",
   "nbconvert_exporter": "python",
   "pygments_lexer": "ipython3",
   "version": "3.7.6"
  }
 },
 "nbformat": 4,
 "nbformat_minor": 5
}
