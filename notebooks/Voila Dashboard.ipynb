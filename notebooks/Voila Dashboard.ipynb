{
 "cells": [
  {
   "cell_type": "code",
   "execution_count": 1,
   "id": "25d6a195",
   "metadata": {
    "code_folding": []
   },
   "outputs": [],
   "source": [
    "import ipywidgets as w\n",
    "from IPython.display import display, clear_output, Image #, IFrame\n",
    "# import matplotlib.pyplot as plt\n",
    "# import seaborn as sns\n",
    "# import base64\n",
    "from IPython.display import Javascript"
   ]
  },
  {
   "cell_type": "code",
   "execution_count": 2,
   "id": "25d4ff64",
   "metadata": {
    "code_folding": [],
    "hide_input": true
   },
   "outputs": [],
   "source": [
    "# data = sns.load_dataset('mpg')\n",
    "\n",
    "# mean_weight = data.groupby(['model_year', 'origin']).weight.mean().unstack().astype(int).T\n",
    "# mean_horsepower = data.groupby(['model_year', 'origin']).horsepower.mean().unstack().astype(int).T\n",
    "# mean_mpg = data.groupby(['model_year', 'origin']).mpg.mean().unstack().astype(int).T\n",
    "\n",
    "# plt.ioff()  # Turn off interactive mode\n",
    "\n",
    "# plt.style.use('default')\n",
    "# plt.style.use(plt.style.available[5])\n",
    "# fig1 = plt.figure(figsize=[25, 2.5], facecolor='none')\n",
    "# sns.heatmap(mean_mpg, annot=True, cmap='cividis', fmt='.4g');\n",
    "# plt.title('Mean MPG', size=22);\n",
    "\n",
    "# plt.style.use('default')\n",
    "# plt.style.use(plt.style.available[5])\n",
    "# fig2 = plt.figure(figsize=[25, 2.5], facecolor='none')\n",
    "# sns.heatmap(mean_weight, annot=True, cmap='magma', fmt='.4g');\n",
    "# plt.title('Mean WEIGHT', size=22);\n",
    "\n",
    "# plt.style.use('default')\n",
    "# plt.style.use(plt.style.available[5])\n",
    "# fig3 = plt.figure(figsize=[25, 2.5], facecolor='none')\n",
    "# sns.heatmap(mean_weight, annot=True, cmap='viridis', fmt='.4g');\n",
    "# plt.title('Mean HORSEPOWER', size=22);"
   ]
  },
  {
   "cell_type": "code",
   "execution_count": 3,
   "id": "59d33bef",
   "metadata": {
    "code_folding": []
   },
   "outputs": [],
   "source": [
    "out = w.Output(layout=w.Layout(height = '890px', width = '99%'))\n",
    "\n",
    "Setosa_button = w.Button(description = 'Setosa', \n",
    "                                        style = w.ButtonStyle(font_weight = 'bold',\n",
    "                                                              font_size = '16px',\n",
    "                                                              button_color='skyblue'))\n",
    "Virginica_button = w.Button(description = 'Virginica', \n",
    "                                        style = w.ButtonStyle(font_weight = 'bold',\n",
    "                                                              font_size = '16px'))\n",
    "Versicolor_button = w.Button(description = 'Versicolor', \n",
    "                                        style = w.ButtonStyle(font_weight = 'bold',\n",
    "                                                              font_size = '16px'))\n",
    "\n",
    "\n",
    "\n",
    "Setosa_out = w.Output(layout=w.Layout(height = '890px', width = '99%'))\n",
    "Virginica_out = w.Output(layout=w.Layout(height = '890px', width = '99%'))\n",
    "Versicolor_out = w.Output(layout=w.Layout(height = '890px'))"
   ]
  },
  {
   "cell_type": "code",
   "execution_count": 4,
   "id": "a30acf6f",
   "metadata": {
    "code_folding": []
   },
   "outputs": [],
   "source": [
    "def set_setosa_as_bg(a):\n",
    "        \n",
    "    Virginica_button.style.button_color = None\n",
    "    Setosa_button.style.button_color = 'skyblue'\n",
    "    \n",
    "    out.add_class(widget_name)\n",
    "    display(Javascript(js_code))         \n",
    "    \n",
    "Setosa_button.on_click(set_setosa_as_bg)\n",
    "\n",
    "\n",
    "def set_virginica_as_bg(a):\n",
    "        \n",
    "    Virginica_button.style.button_color = 'skyblue'\n",
    "    Setosa_button.style.button_color = None\n",
    "    \n",
    "    out.add_class(widget_name)\n",
    "    display(Javascript(js_code))        \n",
    "    \n",
    "Virginica_button.on_click(set_virginica_as_bg)"
   ]
  },
  {
   "cell_type": "code",
   "execution_count": 5,
   "id": "8c078f90",
   "metadata": {},
   "outputs": [
    {
     "data": {
      "application/vnd.jupyter.widget-view+json": {
       "model_id": "9f1fa6a816ce41f683202268b3cc0517",
       "version_major": 2,
       "version_minor": 0
      },
      "text/plain": [
       "Output(layout=Layout(height='890px', width='99%'), _dom_classes=('background-image-widget',))"
      ]
     },
     "metadata": {},
     "output_type": "display_data"
    },
    {
     "data": {
      "application/javascript": [
       "\n",
       "    var image_url = 'https://dl.dropbox.com/scl/fi/lqg9p5pazvp0lc1tzc69u/Setosa.png?rlkey=ya2mevbkunxx4huv7vcijgg6g&dl=0';\n",
       "    setTimeout(function() {\n",
       "        document.querySelector('.background-image-widget').style.backgroundImage = 'url(\"' + image_url + '\")';\n",
       "        document.querySelector('.background-image-widget').style.backgroundSize = 'cover';\n",
       "    }, 500);\n"
      ],
      "text/plain": [
       "<IPython.core.display.Javascript object>"
      ]
     },
     "metadata": {},
     "output_type": "display_data"
    }
   ],
   "source": [
    "image_url = 'https://dl.dropbox.com/scl/fi/lqg9p5pazvp0lc1tzc69u/Setosa.png?rlkey=ya2mevbkunxx4huv7vcijgg6g&dl=0'\n",
    "\n",
    "\n",
    "widget_name = 'background-image-widget'\n",
    "js_code = f\"\"\"\n",
    "    var image_url = '{image_url}';\n",
    "    setTimeout(function() {{\n",
    "        document.querySelector('.{widget_name}').style.backgroundImage = 'url(\"' + image_url + '\")';\n",
    "        document.querySelector('.{widget_name}').style.backgroundSize = 'cover';\n",
    "    }}, 500);\n",
    "\"\"\"\n",
    "\n",
    "out.add_class(widget_name)\n",
    "\n",
    "with out:\n",
    "    clear_output(True)\n",
    "    display(w.HBox([w.Output(layout=w.Layout(height = \"130px\", width = '63%')),\n",
    "                    w.VBox([\n",
    "                        w.Output(layout=w.Layout(height = '50px')),\n",
    "                        w.HBox([Setosa_button, Virginica_button, Versicolor_button])])]))\n",
    "display(out)\n",
    "display(Javascript(js_code))"
   ]
  }
 ],
 "metadata": {
  "kernelspec": {
   "display_name": "Python 3",
   "language": "python",
   "name": "python3"
  },
  "language_info": {
   "codemirror_mode": {
    "name": "ipython",
    "version": 3
   },
   "file_extension": ".py",
   "mimetype": "text/x-python",
   "name": "python",
   "nbconvert_exporter": "python",
   "pygments_lexer": "ipython3",
   "version": "3.7.6"
  }
 },
 "nbformat": 4,
 "nbformat_minor": 5
}
